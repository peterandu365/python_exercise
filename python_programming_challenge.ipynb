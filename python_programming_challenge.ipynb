{
 "cells": [
  {
   "cell_type": "markdown",
   "metadata": {},
   "source": [
    "# Python Programming Challenge\n",
    "\n",
    "## Poker Hand\n",
    "\n",
    "In this challenge, we have to determine which kind of Poker combination is present in a deck of 5 cards. Every card is a string containing the card value **with the upper-case initial for face-cards** and the **lower-case initial for the suit**, as seen in the examples below:\n",
    "\n",
    "> \"Ah\" ➞ Ace of hearts <br>\n",
    "> \"Ks\" ➞ King of spades<br>\n",
    "> \"3d\" ➞ Three of diamonds<br>\n",
    "> \"Qc\" ➞ Queen of clubs <br>\n",
    "\n",
    "There are 10 different combinations. Here's the list, in descending order of importance:"
   ]
  },
  {
   "cell_type": "markdown",
   "metadata": {},
   "source": [
    "| Name            | Description                                         |\n",
    "|-----------------|-----------------------------------------------------|\n",
    "| Royal Flush     | A, K, Q, J, 10, all with the same suit.             |\n",
    "| Straight Flush  | Five cards in sequence, all with the same suit.     |\n",
    "| Four of a Kind  | Four cards of the same rank.                        |\n",
    "| Full House      | Three of a Kind with a Pair.                        |\n",
    "| Flush           | Any five cards of the same suit, not in sequence    |\n",
    "| Straight        | Five cards in a sequence, but not of the same suit. |\n",
    "| Three of a Kind | Three cards of the same rank.                       |\n",
    "| Two Pair        | Two different Pairs.                                |\n",
    "| Pair            | Two cards of the same rank.                         |\n",
    "| High Card       | No other valid combination.                         |\n",
    "\n",
    "---------"
   ]
  },
  {
   "cell_type": "markdown",
   "metadata": {},
   "source": [
    "#### 1. Given a list `hand` containing five strings being the cards. Implement a function called `poker_hand_ranking` that **returns a string with the name of the highest combination obtained.** According to the table above.\n",
    "\n",
    "**Examples:**\n",
    "\n",
    "> poker_hand_ranking([\"10h\", \"Jh\", \"Qh\", \"Ah\", \"Kh\"]) ➞ \"Royal Flush\"<br>\n",
    "> poker_hand_ranking([\"3h\", \"5h\", \"Qs\", \"9h\", \"Ad\"]) ➞ \"High Card\"<br>\n",
    "> poker_hand_ranking([\"10s\", \"10c\", \"8d\", \"10d\", \"10h\"]) ➞ \"Four of a Kind\"<br>"
   ]
  },
  {
   "cell_type": "code",
   "execution_count": 27,
   "metadata": {},
   "outputs": [],
   "source": [
    "from IPython.core.interactiveshell import InteractiveShell\n",
    "InteractiveShell.ast_node_interactivity = \"all\""
   ]
  },
  {
   "cell_type": "code",
   "execution_count": 107,
   "metadata": {},
   "outputs": [],
   "source": [
    "from collections import OrderedDict\n",
    "from collections import Counter"
   ]
  },
  {
   "cell_type": "code",
   "execution_count": 170,
   "metadata": {},
   "outputs": [
    {
     "name": "stdout",
     "output_type": "stream",
     "text": [
      "hand:  ['10s', '10c', '3c', '10d', '10h']\n",
      "face:  {'10', '3'}\n",
      "suit:  {'c', 's', 'h', 'd'}\n",
      "Four of a Kind\n"
     ]
    }
   ],
   "source": [
    "def poker_hand_ranking (hand):\n",
    "    face = set([card[-3:-1] for card in hand]) \n",
    "    print(\"face: \", face)\n",
    "    suit = set([card[-1:] for card in hand]) \n",
    "    print(\"suit: \", suit)\n",
    "    convert = {'A':14, '2':2, '3':3, '4':4, '5':5, '6':6, '7':7, '8':8, '9':9, '10':10, 'J':11, 'Q':12, 'K':13 }\n",
    "    \n",
    "    to_number = list(set([convert[f] for f in face]))\n",
    "    \n",
    "    diff = []\n",
    "    is_straight = False\n",
    "    # whether is straight:     \n",
    "    if len(to_number) == 5:\n",
    "        diff = [to_number[i+1]-to_number[i] for i in range(4)]\n",
    "\n",
    "        if max(diff) == 1 and min(diff) == 1:\n",
    "            is_straight = True\n",
    "\n",
    "        \n",
    "    # | Royal Flush     | A, K, Q, J, 10, all with the same suit.    \n",
    "    if face == {'A', 'K', 'Q', 'J', '10'}  and len(suit) == 1:\n",
    "        print(\"Royal Flush\")\n",
    "    # | Straight Flush  | Five cards in sequence, all with the same suit.  \n",
    "    elif len(suit) == 1  and is_straight:\n",
    "            print(\"Straight Flush\")\n",
    "    # | Four of a Kind  | Four cards of the same rank.  \n",
    "    elif len(face) == 2:\n",
    "        print(\"Four of a Kind\")\n",
    "    # | Full House | Three of a Kind with a Pair.   \n",
    "    elif len(suit) <=3 and len(face) <=4:\n",
    "        print('Full House')\n",
    "    # | Flush | Any five cards of the same suit, not in sequence    |\n",
    "    elif len(suit) == 1:\n",
    "        print('Flush')\n",
    "    #| Straight | Five cards in a sequence, but not of the same suit. |\n",
    "    elif len(suit) > 1 and is_straight:\n",
    "            print(\"Straight\")\n",
    "    # | Three of a Kind | Three cards of the same rank.    \n",
    "    elif len(face) <=3 and (Counter([card[-3:-1] for card in hand])).most_common()[0][1] == 3:\n",
    "        print(\"Three of a Kind\")\n",
    "    # | Two Pair | Two different Pairs.    \n",
    "    elif len(face) == 3:\n",
    "         print(\"Two Pair\")\n",
    "    # | Pair | Two cards of the same rank.    \n",
    "    elif len(face) == 4: \n",
    "         print(\"Pair\")\n",
    "    # | High Card | No other valid combination.     \n",
    "    else:\n",
    "        print(\"High Card\")\n",
    "        \n",
    "\n",
    "\n",
    "# hand = [\"10h\", \"Jh\", \"Qh\", \"Ah\", \"Kh\"] # \"Royal Flush\"\n",
    "# hand = [\"2h\", \"3h\", \"4h\", \"5h\", \"6h\"] # \"Straight Flush\"\n",
    "# hand = [\"9h\", \"10h\", \"Jh\", \"Qh\", \"Kh\"] # \"Straight Flush\"\n",
    "# hand = [\"10s\", \"10c\", \"8d\", \"10d\", \"10h\"] # \"Four of a Kind\"\n",
    "hand = [\"10s\", \"10c\", \"3c\", \"10d\", \"10h\"] # \"Four of a Kind\"\n",
    "# hand = [\"9h\", \"10h\", \"Jh\", \"10h\", \"Kh\"] # Full House\n",
    "# hand = [\"3h\", \"6h\", \"Ah\", \"10h\", \"Kh\"] # Flush\n",
    "# hand = [\"3h\", \"4h\", \"5c\", \"6h\", \"7d\"] # Straight\n",
    "# hand = [\"4h\", \"4d\", \"5c\", \"4s\", \"7d\"] # Three of a Kind\n",
    "# hand = [\"4h\", \"4d\", \"5c\", \"7s\", \"7d\"] # Two Pair\n",
    "# hand = [\"4h\", \"5d\", \"5c\", \"9s\", \"7d\"] # Pair\n",
    "# hand = [\"4h\", \"3d\", \"5c\", \"9s\", \"7d\"] # Hight Card\n",
    "# hand = [\"3h\", \"5h\", \"Qs\", \"9h\", \"Ad\"]  #  \"High Card\"\n",
    "\n",
    "print(\"hand: \", hand)\n",
    "\n",
    "poker_hand_ranking(hand)"
   ]
  },
  {
   "cell_type": "code",
   "execution_count": null,
   "metadata": {},
   "outputs": [],
   "source": []
  },
  {
   "cell_type": "code",
   "execution_count": null,
   "metadata": {},
   "outputs": [],
   "source": []
  },
  {
   "cell_type": "code",
   "execution_count": null,
   "metadata": {},
   "outputs": [],
   "source": []
  },
  {
   "cell_type": "markdown",
   "metadata": {},
   "source": [
    "------------\n",
    "### **Stretch Content**\n",
    "\n",
    "#### 2.  Implement a function `winner_is` that returns the winner given a dictionary with different players and their hands. \n",
    "**Example**\n",
    "\n",
    "We define dictionary like\n",
    "```python\n",
    "round_1 = {\"John\" = [\"10h\", \"Jh\", \"Qh\", \"Ah\", \"Kh\"], \n",
    "        \"Peter\" = [\"3h\", \"5h\", \"Qs\", \"9h\", \"Ad\"]}\n",
    "```\n",
    "\n",
    "Our function returns the name of the winner:\n",
    "> winner_is(round_1) --> \"John\"\n",
    "\n",
    "One table can have up to 10 players.\n"
   ]
  },
  {
   "cell_type": "code",
   "execution_count": null,
   "metadata": {},
   "outputs": [],
   "source": []
  },
  {
   "cell_type": "code",
   "execution_count": null,
   "metadata": {},
   "outputs": [],
   "source": []
  },
  {
   "cell_type": "code",
   "execution_count": null,
   "metadata": {},
   "outputs": [],
   "source": []
  },
  {
   "cell_type": "code",
   "execution_count": null,
   "metadata": {},
   "outputs": [],
   "source": []
  },
  {
   "cell_type": "markdown",
   "metadata": {},
   "source": [
    "#### 3. Create a function `distribute_cards` that randomly generates and gives 5 cards to every player given a list of player names.\n",
    "\n",
    "**Example**\n",
    "\n",
    "> distribute_cards([\"John\",\"Peter\"])  -> round_1 = {\"John\" = [\"10h\", \"Jh\", \"Qh\", \"Ah\", \"Kh\"], \n",
    "        \"Peter\" = [\"3h\", \"5h\", \"Qs\", \"9h\", \"Ad\"]\n",
    "}"
   ]
  },
  {
   "cell_type": "code",
   "execution_count": null,
   "metadata": {},
   "outputs": [],
   "source": []
  },
  {
   "cell_type": "code",
   "execution_count": null,
   "metadata": {},
   "outputs": [],
   "source": []
  },
  {
   "cell_type": "code",
   "execution_count": null,
   "metadata": {},
   "outputs": [],
   "source": []
  },
  {
   "cell_type": "code",
   "execution_count": null,
   "metadata": {},
   "outputs": [],
   "source": []
  }
 ],
 "metadata": {
  "kernelspec": {
   "display_name": "Python 3 (ipykernel)",
   "language": "python",
   "name": "python3"
  },
  "language_info": {
   "codemirror_mode": {
    "name": "ipython",
    "version": 3
   },
   "file_extension": ".py",
   "mimetype": "text/x-python",
   "name": "python",
   "nbconvert_exporter": "python",
   "pygments_lexer": "ipython3",
   "version": "3.9.13"
  }
 },
 "nbformat": 4,
 "nbformat_minor": 4
}
