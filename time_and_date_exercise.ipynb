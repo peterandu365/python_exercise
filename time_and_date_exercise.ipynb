{
 "cells": [
  {
   "cell_type": "markdown",
   "metadata": {},
   "source": [
    "# Time & Date Exercise"
   ]
  },
  {
   "cell_type": "code",
   "execution_count": 2,
   "metadata": {
    "ExecuteTime": {
     "end_time": "2020-04-23T12:59:43.427172Z",
     "start_time": "2020-04-23T12:59:43.421241Z"
    }
   },
   "outputs": [],
   "source": [
    "import datetime as dt"
   ]
  },
  {
   "cell_type": "markdown",
   "metadata": {
    "ExecuteTime": {
     "end_time": "2020-04-23T12:52:58.201151Z",
     "start_time": "2020-04-23T12:52:58.193651Z"
    }
   },
   "source": [
    "**print:**\n",
    "1.  Current date and time\n",
    "2.  Current year\n",
    "3.  Month of year\n",
    "4.  Week number of the year\n",
    "5.  Weekday of the week\n",
    "6.  Day of year\n",
    "7.  Day of the month\n",
    "8.  Day of week"
   ]
  },
  {
   "cell_type": "code",
   "execution_count": 35,
   "metadata": {
    "ExecuteTime": {
     "end_time": "2020-04-23T12:53:26.216074Z",
     "start_time": "2020-04-23T12:53:26.206960Z"
    }
   },
   "outputs": [
    {
     "name": "stdout",
     "output_type": "stream",
     "text": [
      " # 1.  Current date and time \n",
      "2023-02-15 20:05:03.914946\n",
      " # 2.  Current year \n",
      "2023\n",
      " # 3.  Month of year \n",
      "02\n",
      " print(now.strftime(\"%m\")) \n",
      "7\n",
      " # 5.  Weekday of the week \n",
      "2\n",
      " # 6.  Day of year \n",
      "046\n",
      "46\n",
      " # 7.  Day of the month \n",
      "15\n",
      " # 8.  Day of week \n",
      "2\n"
     ]
    }
   ],
   "source": [
    "# 1.  Current date and time\n",
    "print(' # 1.  Current date and time ')\n",
    "now = dt.datetime.now()\n",
    "print(now)\n",
    "\n",
    "# 2.  Current year\n",
    "print(' # 2.  Current year ')\n",
    "print(now.year)\n",
    "\n",
    "# 3.  Month of year\n",
    "print(' # 3.  Month of year ')\n",
    "print(now.strftime(\"%m\"))\n",
    "\n",
    "# 4.  Week number of the year\n",
    "print(' print(now.strftime(\"%m\")) ')\n",
    "print(now.isocalendar()[1])\n",
    "\n",
    "# 5.  Weekday of the week\n",
    "print(' # 5.  Weekday of the week ')\n",
    "print(now.weekday())\n",
    "\n",
    "# 6.  Day of year\n",
    "print(' # 6.  Day of year ')\n",
    "print(now.strftime(\"%j\"))\n",
    "print(now.timetuple().tm_yday)\n",
    "\n",
    "# 7.  Day of the month\n",
    "print(' # 7.  Day of the month ')\n",
    "print(now.strftime(\"%d\"))\n",
    "\n",
    "\n",
    "# 8.  Day of week\n",
    "print(' # 8.  Day of week ')\n",
    "print(now.weekday())\n"
   ]
  },
  {
   "cell_type": "markdown",
   "metadata": {},
   "source": [
    "* convert a string to datetime\n",
    "* **string** = *'Jan 1 2014 2:43PM'*"
   ]
  },
  {
   "cell_type": "code",
   "execution_count": 47,
   "metadata": {
    "ExecuteTime": {
     "end_time": "2020-04-23T12:53:52.241615Z",
     "start_time": "2020-04-23T12:53:52.231428Z"
    }
   },
   "outputs": [
    {
     "data": {
      "text/plain": [
       "Timestamp('2014-01-01 14:43:00')"
      ]
     },
     "execution_count": 47,
     "metadata": {},
     "output_type": "execute_result"
    }
   ],
   "source": [
    "import pandas as pd\n",
    "\n",
    "s = 'Jan 1 2014 2:43PM'\n",
    "pd.to_datetime(s)\n",
    "# pd.to_datetime(\"8th of sep, 2019\")"
   ]
  },
  {
   "cell_type": "markdown",
   "metadata": {},
   "source": [
    "* print the current time "
   ]
  },
  {
   "cell_type": "code",
   "execution_count": 58,
   "metadata": {
    "ExecuteTime": {
     "end_time": "2020-03-11T18:16:28.915595Z",
     "start_time": "2020-03-11T18:16:28.909658Z"
    }
   },
   "outputs": [
    {
     "name": "stdout",
     "output_type": "stream",
     "text": [
      "20:05:03.914946\n"
     ]
    }
   ],
   "source": [
    "\n",
    "print(now.time())"
   ]
  },
  {
   "cell_type": "markdown",
   "metadata": {},
   "source": [
    "* subtract five days from current date"
   ]
  },
  {
   "cell_type": "code",
   "execution_count": 62,
   "metadata": {
    "ExecuteTime": {
     "end_time": "2020-04-23T12:54:56.116690Z",
     "start_time": "2020-04-23T12:54:56.111293Z"
    }
   },
   "outputs": [
    {
     "name": "stdout",
     "output_type": "stream",
     "text": [
      "2023-02-10 20:05:03.914946\n"
     ]
    }
   ],
   "source": [
    "result = now - dt.timedelta( days=5 )\n",
    "print(result)"
   ]
  },
  {
   "cell_type": "markdown",
   "metadata": {
    "ExecuteTime": {
     "end_time": "2020-04-23T12:55:10.916163Z",
     "start_time": "2020-04-23T12:55:10.910245Z"
    }
   },
   "source": [
    "* convert unix timestamp string to readable date\n",
    "* **unix** = *1284105682*"
   ]
  },
  {
   "cell_type": "code",
   "execution_count": 69,
   "metadata": {
    "ExecuteTime": {
     "end_time": "2020-03-11T18:19:02.952818Z",
     "start_time": "2020-03-11T18:19:02.946930Z"
    }
   },
   "outputs": [
    {
     "name": "stdout",
     "output_type": "stream",
     "text": [
      "2010-09-10 01:01:22\n"
     ]
    }
   ],
   "source": [
    "unix = 1284105682\n",
    "\n",
    "result = dt.datetime.fromtimestamp(unix)\n",
    "\n",
    "print(result)"
   ]
  },
  {
   "cell_type": "markdown",
   "metadata": {
    "ExecuteTime": {
     "end_time": "2020-04-23T12:56:00.886007Z",
     "start_time": "2020-04-23T12:56:00.878697Z"
    }
   },
   "source": [
    "* convert today's date to Day of Year"
   ]
  },
  {
   "cell_type": "code",
   "execution_count": 72,
   "metadata": {
    "ExecuteTime": {
     "end_time": "2020-04-23T12:55:58.575327Z",
     "start_time": "2020-04-23T12:55:58.553895Z"
    }
   },
   "outputs": [
    {
     "name": "stdout",
     "output_type": "stream",
     "text": [
      "046\n",
      "46\n"
     ]
    }
   ],
   "source": [
    "print(now.strftime(\"%j\"))\n",
    "print(now.timetuple().tm_yday)"
   ]
  },
  {
   "cell_type": "markdown",
   "metadata": {},
   "source": [
    "* get week number from today's date"
   ]
  },
  {
   "cell_type": "code",
   "execution_count": 73,
   "metadata": {
    "ExecuteTime": {
     "end_time": "2020-04-23T12:56:28.577424Z",
     "start_time": "2020-04-23T12:56:28.572138Z"
    }
   },
   "outputs": [
    {
     "name": "stdout",
     "output_type": "stream",
     "text": [
      "7\n"
     ]
    }
   ],
   "source": [
    "print(now.isocalendar()[1])"
   ]
  },
  {
   "cell_type": "markdown",
   "metadata": {
    "ExecuteTime": {
     "end_time": "2020-04-23T12:56:43.939475Z",
     "start_time": "2020-04-23T12:56:43.932915Z"
    }
   },
   "source": [
    "* get the number of days between the two dates"
   ]
  },
  {
   "cell_type": "code",
   "execution_count": 81,
   "metadata": {
    "ExecuteTime": {
     "end_time": "2020-04-23T12:59:47.672905Z",
     "start_time": "2020-04-23T12:59:47.667373Z"
    }
   },
   "outputs": [
    {
     "name": "stdout",
     "output_type": "stream",
     "text": [
      "-32 days, 0:00:00\n"
     ]
    }
   ],
   "source": [
    "date_a = dt.date(2020,2,2)\n",
    "date_b = dt.date(2020,1,1)\n",
    "\n",
    "\n",
    "print(date_b - date_a)"
   ]
  },
  {
   "cell_type": "markdown",
   "metadata": {},
   "source": [
    "* get the number of days of the given month and year"
   ]
  },
  {
   "cell_type": "code",
   "execution_count": 83,
   "metadata": {
    "ExecuteTime": {
     "end_time": "2020-04-23T12:59:48.516068Z",
     "start_time": "2020-04-23T12:59:48.511765Z"
    }
   },
   "outputs": [
    {
     "name": "stdout",
     "output_type": "stream",
     "text": [
      "(5, 31)\n"
     ]
    }
   ],
   "source": [
    "month = 10\n",
    "year = 2016\n",
    "\n",
    "from calendar import monthrange\n",
    "print(monthrange(year, month))\n",
    "\n",
    "# First number is the weekday of the first day of the month, the second number is the number of days in said month."
   ]
  },
  {
   "cell_type": "markdown",
   "metadata": {},
   "source": [
    "* get a list of dates between the two dates"
   ]
  },
  {
   "cell_type": "code",
   "execution_count": 101,
   "metadata": {
    "ExecuteTime": {
     "end_time": "2020-04-23T12:59:53.461312Z",
     "start_time": "2020-04-23T12:59:53.456769Z"
    }
   },
   "outputs": [],
   "source": [
    "start_dt = dt.date(2015, 12, 20)\n",
    "end_dt = dt.date(2016, 1, 11)\n",
    "\n"
   ]
  },
  {
   "cell_type": "code",
   "execution_count": 2,
   "metadata": {},
   "outputs": [
    {
     "data": {
      "text/plain": [
       "0    2015-12-20\n",
       "1    2015-12-21\n",
       "2    2015-12-22\n",
       "3    2015-12-23\n",
       "4    2015-12-24\n",
       "5    2015-12-25\n",
       "6    2015-12-26\n",
       "7    2015-12-27\n",
       "8    2015-12-28\n",
       "9    2015-12-29\n",
       "10   2015-12-30\n",
       "11   2015-12-31\n",
       "12   2016-01-01\n",
       "13   2016-01-02\n",
       "14   2016-01-03\n",
       "15   2016-01-04\n",
       "16   2016-01-05\n",
       "17   2016-01-06\n",
       "18   2016-01-07\n",
       "19   2016-01-08\n",
       "20   2016-01-09\n",
       "21   2016-01-10\n",
       "22   2016-01-11\n",
       "dtype: datetime64[ns]"
      ]
     },
     "execution_count": 2,
     "metadata": {},
     "output_type": "execute_result"
    }
   ],
   "source": [
    "from datetime import timedelta, date\n",
    "import pandas as pd\n",
    "\n",
    "start_dt = date(2015, 12, 20)\n",
    "end_dt = date(2016, 1, 11)\n",
    "     \n",
    "\n",
    "s = pd.Series(pd.date_range(start_dt, end_dt))\n",
    "s\n",
    "\n"
   ]
  },
  {
   "cell_type": "code",
   "execution_count": null,
   "metadata": {},
   "outputs": [],
   "source": []
  }
 ],
 "metadata": {
  "kernelspec": {
   "display_name": "Python 3 (ipykernel)",
   "language": "python",
   "name": "python3"
  },
  "language_info": {
   "codemirror_mode": {
    "name": "ipython",
    "version": 3
   },
   "file_extension": ".py",
   "mimetype": "text/x-python",
   "name": "python",
   "nbconvert_exporter": "python",
   "pygments_lexer": "ipython3",
   "version": "3.9.13"
  },
  "toc": {
   "base_numbering": 1,
   "nav_menu": {},
   "number_sections": true,
   "sideBar": true,
   "skip_h1_title": false,
   "title_cell": "Table of Contents",
   "title_sidebar": "Contents",
   "toc_cell": false,
   "toc_position": {},
   "toc_section_display": true,
   "toc_window_display": false
  },
  "varInspector": {
   "cols": {
    "lenName": 16,
    "lenType": 16,
    "lenVar": 40
   },
   "kernels_config": {
    "python": {
     "delete_cmd_postfix": "",
     "delete_cmd_prefix": "del ",
     "library": "var_list.py",
     "varRefreshCmd": "print(var_dic_list())"
    },
    "r": {
     "delete_cmd_postfix": ") ",
     "delete_cmd_prefix": "rm(",
     "library": "var_list.r",
     "varRefreshCmd": "cat(var_dic_list()) "
    }
   },
   "types_to_exclude": [
    "module",
    "function",
    "builtin_function_or_method",
    "instance",
    "_Feature"
   ],
   "window_display": false
  }
 },
 "nbformat": 4,
 "nbformat_minor": 4
}
